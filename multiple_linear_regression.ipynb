{
 "cells": [
  {
   "attachments": {},
   "cell_type": "markdown",
   "metadata": {},
   "source": [
    "Importin the libraries"
   ]
  },
  {
   "cell_type": "code",
   "execution_count": null,
   "metadata": {},
   "outputs": [],
   "source": [
    "import numpy as np\n",
    "import matplotlib.pyplot as plt\n",
    "import pandas as pd"
   ]
  },
  {
   "attachments": {},
   "cell_type": "markdown",
   "metadata": {},
   "source": [
    "importing the dataset"
   ]
  },
  {
   "cell_type": "code",
   "execution_count": null,
   "metadata": {},
   "outputs": [
    {
     "name": "stdout",
     "output_type": "stream",
     "text": [
      "                        Country              City  AQI Value AQI Category  \\\n",
      "0            Russian Federation        Praskoveya         51     Moderate   \n",
      "1                        Brazil  Presidente Dutra         41         Good   \n",
      "2                         Italy   Priolo Gargallo         66     Moderate   \n",
      "3                        Poland         Przasnysz         34         Good   \n",
      "4                        France          Punaauia         22         Good   \n",
      "...                         ...               ...        ...          ...   \n",
      "23458                     India      Gursahaiganj        184    Unhealthy   \n",
      "23459                    France            Sceaux         50         Good   \n",
      "23460                     India          Mormugao         50         Good   \n",
      "23461  United States of America       Westerville         71     Moderate   \n",
      "23462                  Malaysia            Marang         70     Moderate   \n",
      "\n",
      "       CO AQI Value CO AQI Category  Ozone AQI Value Ozone AQI Category  \\\n",
      "0                 1            Good               36               Good   \n",
      "1                 1            Good                5               Good   \n",
      "2                 1            Good               39               Good   \n",
      "3                 1            Good               34               Good   \n",
      "4                 0            Good               22               Good   \n",
      "...             ...             ...              ...                ...   \n",
      "23458             3            Good              154          Unhealthy   \n",
      "23459             1            Good               20               Good   \n",
      "23460             1            Good               22               Good   \n",
      "23461             1            Good               44               Good   \n",
      "23462             1            Good               38               Good   \n",
      "\n",
      "       NO2 AQI Value NO2 AQI Category  PM2.5 AQI Value PM2.5 AQI Category  \n",
      "0                  0             Good               51           Moderate  \n",
      "1                  1             Good               41               Good  \n",
      "2                  2             Good               66           Moderate  \n",
      "3                  0             Good               20               Good  \n",
      "4                  0             Good                6               Good  \n",
      "...              ...              ...              ...                ...  \n",
      "23458              2             Good              184          Unhealthy  \n",
      "23459              5             Good               50               Good  \n",
      "23460              1             Good               50               Good  \n",
      "23461              2             Good               71           Moderate  \n",
      "23462              0             Good               70           Moderate  \n",
      "\n",
      "[23463 rows x 12 columns]\n"
     ]
    }
   ],
   "source": [
    "dataset = pd.read_csv('global air pollution dataset.csv')\n",
    "x = dataset[['CO AQI Value', 'Ozone AQI Value', 'NO2 AQI Value', 'PM2.5 AQI Value']].values\n",
    "y = dataset[['AQI Value']].values\n",
    "print (x)"
   ]
  },
  {
   "attachments": {},
   "cell_type": "markdown",
   "metadata": {},
   "source": [
    "Encording categotical data"
   ]
  },
  {
   "cell_type": "markdown",
   "metadata": {},
   "source": [
    "Spliting the dataset into the Training set and Test set"
   ]
  },
  {
   "cell_type": "code",
   "execution_count": null,
   "metadata": {},
   "outputs": [],
   "source": [
    "from sklearn.model_selection import train_test_split\n",
    "\n",
    "x_train, x_test, y_train, y_test = train_test_split(x, y, test_size=0.2, random_state=42)"
   ]
  },
  {
   "attachments": {},
   "cell_type": "markdown",
   "metadata": {},
   "source": [
    "Training the Multiple Linear Regression model on the Training set"
   ]
  },
  {
   "cell_type": "code",
   "execution_count": null,
   "metadata": {},
   "outputs": [],
   "source": [
    "from sklearn.linear_model import LinearRegression\n",
    "regressor = LinearRegression()\n",
    "regressor.fit(x_train, y_train)"
   ]
  },
  {
   "attachments": {},
   "cell_type": "markdown",
   "metadata": {},
   "source": [
    "compare between the outcome and the prediction"
   ]
  },
  {
   "cell_type": "code",
   "execution_count": null,
   "metadata": {},
   "outputs": [
    {
     "name": "stdout",
     "output_type": "stream",
     "text": [
      "[[181.35953303392412 '183.25']\n",
      " [177.6260610026037 '180.13']\n",
      " [181.33613788567197 '184.13']\n",
      " [175.2948605222912 '180.45']\n",
      " [179.76441358648722 '183.26']\n",
      " [169.96854895729015 '174.48']\n",
      " [168.69489358398818 '173.44']\n",
      " [175.08551626698593 '172.92']\n",
      " [179.1309748722991 '182.0']\n",
      " [186.59530637161404 '187.71']\n",
      " [190.96232110940917 '193.81']\n",
      " [194.97825206014178 '197.79']\n",
      " [188.4221445330514 '190.9']\n",
      " [197.77135833871253 '202.77']\n",
      " [202.54325177738394 '205.71']\n",
      " [204.45590696723227 '207.63']\n",
      " [191.63560160107667 '196.88']\n",
      " [195.9962570529243 '202.07']\n",
      " [192.68019338451904 '200.86']\n",
      " [199.3725259062451 '197.37']\n",
      " [200.97452990391392 '208.31']\n",
      " [205.17240243601555 '202.04']\n",
      " [206.02985142952966 '214.24']\n",
      " [201.39133773754668 '209.25']\n",
      " [187.1256525529416 '194.64']\n",
      " [194.24274948042634 '196.89']\n",
      " [206.31593479216005 '207.32']\n",
      " [196.9099692286874 '201.29']\n",
      " [188.05746525346305 '196.81']\n",
      " [191.162735259117 '194.76']\n",
      " [192.17669900443943 '189.98']\n",
      " [187.46264544871656 '188.27']\n",
      " [175.1255528771927 '181.41']\n",
      " [167.6286164516202 '173.22']\n",
      " [165.8457655728173 '166.66']\n",
      " [171.2530250969601 '177.9']\n",
      " [152.18949853391265 '160.27']\n",
      " [138.82435256304723 '144.43']\n",
      " [141.17749396113416 '143.89']\n",
      " [138.7668535730973 '143.75']\n",
      " [128.92032784339497 '133.42']\n",
      " [123.72645871708272 '127.17']\n",
      " [125.19739076237533 '128.78']\n",
      " [126.47824561166699 '131.49']\n",
      " [117.32828344723455 '122.4']\n",
      " [116.05689717019412 '123.56']\n",
      " [120.31916628270056 '123.22']\n",
      " [114.27331167583066 '118.85']\n",
      " [117.48620782623583 '119.77']\n",
      " [107.55920151555242 '113.06']\n",
      " [105.6118864463925 '110.34']\n",
      " [108.88312164004034 '113.64']\n",
      " [103.35991281751313 '108.1']\n",
      " [120.3709399880701 '123.18']\n",
      " [116.21697787153894 '121.82']\n",
      " [109.26564024672953 '112.71']\n",
      " [108.33942070846632 '109.1']\n",
      " [120.68229686146918 '123.15']\n",
      " [121.66355498083729 '125.35']\n",
      " [135.22248951838318 '137.57']\n",
      " [138.3880905756289 '137.8']\n",
      " [145.85788309492594 '149.87']\n",
      " [150.53398624490598 '150.23']\n",
      " [157.28642234419928 '157.67']\n",
      " [155.25039830866913 '156.8']\n",
      " [157.66640420556277 '160.95']\n",
      " [168.28436101912305 '167.82']\n",
      " [178.8559829754726 '179.05']\n",
      " [170.26987044717026 '173.44']\n",
      " [174.84779330869972 '174.04']\n",
      " [176.83336269735412 '179.82']\n",
      " [182.24034422201387 '182.45']\n",
      " [193.51141526080895 '194.86']\n",
      " [192.85260065811036 '194.7']\n",
      " [189.6789951254289 '194.7']\n",
      " [179.58186803818288 '180.83']\n",
      " [184.7549116111571 '182.92']\n",
      " [180.56755081029618 '182.86']\n",
      " [179.30372686562035 '183.2']\n",
      " [166.98826378609138 '169.91']\n",
      " [168.27961452866742 '167.87']\n",
      " [176.98127029257282 '180.19']\n",
      " [182.0624745189527 '183.17']\n",
      " [186.44496485470157 '186.92']\n",
      " [195.30993913276788 '194.42']\n",
      " [188.4427173111358 '190.95']\n",
      " [190.2964398632591 '195.97']\n",
      " [180.4660488697173 '190.72']\n",
      " [182.267265613021 '177.59']\n",
      " [186.67652955842604 '191.3']\n",
      " [197.67202218841265 '197.08']\n",
      " [206.74910981917188 '207.47']\n",
      " [217.8803811183815 '215.31']\n",
      " [217.70335745818733 '214.98']\n",
      " [230.40258008358168 '227.82']\n",
      " [224.73957334450677 '227.54']\n",
      " [220.02723508528888 '228.52']\n",
      " [226.6659125247899 '225.09']\n",
      " [226.54363508652528 '224.64']\n",
      " [220.59367315580732 '222.415']]\n"
     ]
    }
   ],
   "source": [
    "y_pred = regressor.predict(x_test)\n",
    "np.set_printoptions(precision=2)\n",
    "print(np.concatenate((y_pred.reshape(len(y_pred), 1), (y_test.reshape(len(y_test), 1))), 1))"
   ]
  },
  {
   "attachments": {},
   "cell_type": "markdown",
   "metadata": {},
   "source": [
    "calculate the efficiency via r-squared rule"
   ]
  },
  {
   "cell_type": "code",
   "execution_count": null,
   "metadata": {},
   "outputs": [
    {
     "name": "stdout",
     "output_type": "stream",
     "text": [
      "0.9835696186819267\n"
     ]
    }
   ],
   "source": [
    "from sklearn.metrics import r2_score\n",
    "\n",
    "r_squared = r2_score(y_test, y_pred)\n",
    "print(r_squared)"
   ]
  }
 ],
 "metadata": {
  "kernelspec": {
   "display_name": "Python 3",
   "language": "python",
   "name": "python3"
  },
  "language_info": {
   "codemirror_mode": {
    "name": "ipython",
    "version": 3
   },
   "file_extension": ".py",
   "mimetype": "text/x-python",
   "name": "python",
   "nbconvert_exporter": "python",
   "pygments_lexer": "ipython3",
   "version": "3.10.4"
  },
  "orig_nbformat": 4
 },
 "nbformat": 4,
 "nbformat_minor": 2
}
